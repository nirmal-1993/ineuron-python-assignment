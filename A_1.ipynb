{
 "cells": [
  {
   "cell_type": "markdown",
   "id": "0b97e9e4",
   "metadata": {},
   "source": [
    "<b>1. In the below elements which of them are values or an expression?</b><br>\n",
    "- <b>*</b>\n",
    "- <b>'hello'</b>\n",
    "- <b>-87.8</b>\n",
    "- <b>-</b>\n",
    "- <b>/</b>\n",
    "- <b>+</b>\t\n",
    "- <b>6</b>\n"
   ]
  },
  {
   "cell_type": "code",
   "execution_count": null,
   "id": "371090bc",
   "metadata": {},
   "outputs": [],
   "source": [
    "\"\"\" 'hello', -87.8 ,6 are values whereas * , -, / ,+ are expression\"\"\""
   ]
  },
  {
   "cell_type": "markdown",
   "id": "8c75be5d",
   "metadata": {},
   "source": [
    "#### 2. What is the difference between string and variable?"
   ]
  },
  {
   "cell_type": "code",
   "execution_count": 3,
   "id": "da69a56c",
   "metadata": {},
   "outputs": [],
   "source": [
    "\"\"\"a string is a value representing text. a variable is a name that can refer to any value. quotes, double or single, \n",
    "(they mean the same, but can't be matched with each other) are used to create string literals, the quotes are there to indicate \n",
    "that the text that they enclose is not code, it is a value.\"\"\""
   ]
  },
  {
   "attachments": {
    "pydy.PNG": {
     "image/png": "[encoded data removed]"
    }
   },
   "cell_type": "markdown",
   "id": "9775c5b4",
   "metadata": {},
   "source": [
    "#### 3. Describe three different data types?\n",
    "![pydy.PNG](attachment:pydy.PNG)"
   ]
  },
  {
   "cell_type": "code",
   "execution_count": null,
   "id": "d1aac3e4",
   "metadata": {},
   "outputs": [],
   "source": [
    "\"\"\"1. Text Types: string data type represented by str. A string is a sequence of characters enclosed within single quotes \n",
    "or double quotes.\n",
    "\n",
    "2. Numerical Types:\n",
    "A. int data type represents whole numbers. We can represent int values in DECIMAL FORM, BINARY FORM, OCTAL FORM and \n",
    "HEXA DECIMAL FORM.\n",
    "B. Float data type represents floating point values(decimal values).\n",
    "C. Complex data type is in the form of a+bj(a-Real part and bj-imaginary part). 'a' and 'b' contain integers or floating point\n",
    "    values.\n",
    "\n",
    "3. Boolean Types: bool data type can be use to represent the logical values(True and False)\"\"\""
   ]
  },
  {
   "cell_type": "markdown",
   "id": "25954a7c",
   "metadata": {},
   "source": [
    "#### 4. What is an expression made up of? What do all expressions do?"
   ]
  },
  {
   "cell_type": "code",
   "execution_count": null,
   "id": "1f255d07",
   "metadata": {},
   "outputs": [],
   "source": [
    "\"\"\"In programming language terminology, an “expression” is a combination of values and functions that are combined and \n",
    "interpreted by the compiler to create/returns a new value\"\"\""
   ]
  },
  {
   "cell_type": "markdown",
   "id": "3ad3138e",
   "metadata": {},
   "source": [
    "#### 5. This assignment statements, like spam = 10. What is the difference between an expression and a statement?"
   ]
  },
  {
   "cell_type": "code",
   "execution_count": null,
   "id": "7f67e6cb",
   "metadata": {},
   "outputs": [],
   "source": [
    "\"\"\"An expression is a series of variables, operators, and method calls that evaluates to a single value.\n",
    "A statement forms a complete unit of execution.\n",
    "\n",
    "Example:\n",
    "a = 1+2 , here the complete unit [a=1+2] is statement but ony [1+2] is expression.\n",
    "so in assignment statement spam=10, [spam=10] is statement and the value[10] is expression assigned the variable[spam]\"\"\""
   ]
  },
  {
   "cell_type": "markdown",
   "id": "f28c253f",
   "metadata": {},
   "source": [
    "#### 6. After running the following code, what does the variable bacon contain?<br>\n",
    "bacon = 22<br>\n",
    "bacon + 1"
   ]
  },
  {
   "cell_type": "code",
   "execution_count": 7,
   "id": "4b421f6b",
   "metadata": {},
   "outputs": [
    {
     "data": {
      "text/plain": [
       "23"
      ]
     },
     "execution_count": 7,
     "metadata": {},
     "output_type": "execute_result"
    }
   ],
   "source": [
    "bacon = 22\n",
    "bacon + 1"
   ]
  },
  {
   "cell_type": "markdown",
   "id": "0c52c627",
   "metadata": {},
   "source": [
    "#### 7. What should the values of the following two terms be?<br>\n",
    "'spam' + 'spamspam'<br>\n",
    "'spam' * 3\n"
   ]
  },
  {
   "cell_type": "code",
   "execution_count": 8,
   "id": "ed487bcd",
   "metadata": {},
   "outputs": [
    {
     "data": {
      "text/plain": [
       "'spamspamspam'"
      ]
     },
     "execution_count": 8,
     "metadata": {},
     "output_type": "execute_result"
    }
   ],
   "source": [
    "'spam' + 'spamspam'\n",
    "'spam' * 3"
   ]
  },
  {
   "cell_type": "markdown",
   "id": "78073e3e",
   "metadata": {},
   "source": [
    "#### 8. Why is eggs a valid variable name while 100 is invalid?"
   ]
  },
  {
   "cell_type": "code",
   "execution_count": null,
   "id": "5bd85b67",
   "metadata": {},
   "outputs": [],
   "source": [
    "#because in python identifiers not start with digits.\n",
    "#example : 123total is invalid"
   ]
  },
  {
   "cell_type": "markdown",
   "id": "33fee604",
   "metadata": {},
   "source": [
    "#### 9. What three functions can be used to get the integer, floating-point number, or string version of a value?"
   ]
  },
  {
   "cell_type": "code",
   "execution_count": 12,
   "id": "9fdf27ce",
   "metadata": {},
   "outputs": [],
   "source": [
    "#int(), float() and str()"
   ]
  },
  {
   "cell_type": "markdown",
   "id": "ebd4c729",
   "metadata": {},
   "source": [
    "#### 10. Why does this expression cause an error? How can you fix it?\n",
    "'I have eaten ' + 99 + ' burritos.'"
   ]
  },
  {
   "cell_type": "code",
   "execution_count": 15,
   "id": "400539f4",
   "metadata": {},
   "outputs": [
    {
     "data": {
      "text/plain": [
       "'I have eaten 99 burritos.'"
      ]
     },
     "execution_count": 15,
     "metadata": {},
     "output_type": "execute_result"
    }
   ],
   "source": [
    "'I have eaten ' + str(99) + ' burritos.'"
   ]
  },
  {
   "cell_type": "code",
   "execution_count": null,
   "id": "5a3c2618",
   "metadata": {},
   "outputs": [],
   "source": []
  }
 ],
 "metadata": {
  "kernelspec": {
   "display_name": "Python 3",
   "language": "python",
   "name": "python3"
  },
  "language_info": {
   "codemirror_mode": {
    "name": "ipython",
    "version": 3
   },
   "file_extension": ".py",
   "mimetype": "text/x-python",
   "name": "python",
   "nbconvert_exporter": "python",
   "pygments_lexer": "ipython3",
   "version": "3.9.5"
  }
 },
 "nbformat": 4,
 "nbformat_minor": 5
}
